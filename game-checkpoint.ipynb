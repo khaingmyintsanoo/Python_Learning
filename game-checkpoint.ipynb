{
 "cells": [
  {
   "cell_type": "code",
   "execution_count": 1,
   "metadata": {},
   "outputs": [],
   "source": [
    "game_list=[0,1,2]"
   ]
  },
  {
   "cell_type": "code",
   "execution_count": 2,
   "metadata": {},
   "outputs": [],
   "source": [
    "def display_game(game_list):\n",
    "    print(\"Here is the current list\")\n",
    "    print(game_list)\n",
    "    "
   ]
  },
  {
   "cell_type": "code",
   "execution_count": 3,
   "metadata": {},
   "outputs": [
    {
     "name": "stdout",
     "output_type": "stream",
     "text": [
      "Here is the current list\n",
      "[0, 1, 2]\n"
     ]
    }
   ],
   "source": [
    "display_game(game_list)"
   ]
  },
  {
   "cell_type": "code",
   "execution_count": 11,
   "metadata": {},
   "outputs": [],
   "source": [
    "def position_choice():\n",
    "    choice='wrong'\n",
    "    while choice not in ['0','1','2']:\n",
    "        choice=input(\"picek a position (o,1,2)\")\n",
    "        if choice not in ['0','1','2']:\n",
    "            print(\"sorry invalide choice\")\n",
    "    return int(choice)"
   ]
  },
  {
   "cell_type": "code",
   "execution_count": 12,
   "metadata": {},
   "outputs": [
    {
     "name": "stdout",
     "output_type": "stream",
     "text": [
      "picek a position (o,1,2)w\n",
      "sorry invalide choice\n",
      "picek a position (o,1,2)e\n",
      "sorry invalide choice\n",
      "picek a position (o,1,2)1\n"
     ]
    },
    {
     "data": {
      "text/plain": [
       "1"
      ]
     },
     "execution_count": 12,
     "metadata": {},
     "output_type": "execute_result"
    }
   ],
   "source": [
    "position_choice()"
   ]
  },
  {
   "cell_type": "code",
   "execution_count": 18,
   "metadata": {},
   "outputs": [],
   "source": [
    "def replacement_choice(game_list,position):\n",
    "    \n",
    "    user_placement=input(\"Type a String to replace at position \")\n",
    "    \n",
    "    game_list[position]=user_placement\n",
    "    \n",
    "    return game_list"
   ]
  },
  {
   "cell_type": "code",
   "execution_count": 19,
   "metadata": {},
   "outputs": [
    {
     "name": "stdout",
     "output_type": "stream",
     "text": [
      "Type a String to replace at position test\n"
     ]
    },
    {
     "data": {
      "text/plain": [
       "[0, 'test', 2]"
      ]
     },
     "execution_count": 19,
     "metadata": {},
     "output_type": "execute_result"
    }
   ],
   "source": [
    "replacement_choice(game_list,1)"
   ]
  },
  {
   "cell_type": "code",
   "execution_count": 20,
   "metadata": {},
   "outputs": [],
   "source": [
    "def gameon_choice():\n",
    "    choice='wrong'\n",
    "    while choice not in ['Y','N']:\n",
    "        choice=input(\"Keep Playint?(Y or N)\")\n",
    "        if choice not in ['Y','N']:\n",
    "            print(\"sorry, I don't understand please choose Y or N\")\n",
    "    if choice == 'Y':\n",
    "        return True\n",
    "    else:\n",
    "        return False\n",
    "        \n",
    "    return int(choice)"
   ]
  },
  {
   "cell_type": "code",
   "execution_count": 21,
   "metadata": {},
   "outputs": [
    {
     "name": "stdout",
     "output_type": "stream",
     "text": [
      "Keep Playint?(Y or N)other\n",
      "sorry, I don't understand please choose Y or N\n",
      "Keep Playint?(Y or N)Y\n"
     ]
    },
    {
     "data": {
      "text/plain": [
       "True"
      ]
     },
     "execution_count": 21,
     "metadata": {},
     "output_type": "execute_result"
    }
   ],
   "source": [
    "gameon_choice()"
   ]
  },
  {
   "cell_type": "code",
   "execution_count": 23,
   "metadata": {},
   "outputs": [
    {
     "name": "stdout",
     "output_type": "stream",
     "text": [
      "Here is the current list\n",
      "[0, 1, 2]\n",
      "picek a position (o,1,2)0\n",
      "Type a String to replace at position 1\n",
      "Here is the current list\n",
      "['1', 1, 2]\n",
      "Keep Playint?(Y or N)Y\n",
      "Here is the current list\n",
      "['1', 1, 2]\n",
      "picek a position (o,1,2)2\n",
      "Type a String to replace at position Testing\n",
      "Here is the current list\n",
      "['1', 1, 'Testing']\n",
      "Keep Playint?(Y or N)Y\n",
      "Here is the current list\n",
      "['1', 1, 'Testing']\n",
      "picek a position (o,1,2)2\n",
      "Type a String to replace at position final test\n",
      "Here is the current list\n",
      "['1', 1, 'final test']\n",
      "Keep Playint?(Y or N)N\n"
     ]
    }
   ],
   "source": [
    "game_on = True\n",
    "game_list=[0,1,2]\n",
    "\n",
    "while game_on:\n",
    "    display_game(game_list)\n",
    "    position=position_choice()\n",
    "    game_list=replacement_choice(game_list,position)\n",
    "    display_game(game_list)\n",
    "    game_on=gameon_choice()"
   ]
  },
  {
   "cell_type": "code",
   "execution_count": null,
   "metadata": {},
   "outputs": [],
   "source": []
  }
 ],
 "metadata": {
  "kernelspec": {
   "display_name": "Python 3",
   "language": "python",
   "name": "python3"
  },
  "language_info": {
   "codemirror_mode": {
    "name": "ipython",
    "version": 3
   },
   "file_extension": ".py",
   "mimetype": "text/x-python",
   "name": "python",
   "nbconvert_exporter": "python",
   "pygments_lexer": "ipython3",
   "version": "3.7.6"
  }
 },
 "nbformat": 4,
 "nbformat_minor": 4
}
